{
 "cells": [
  {
   "cell_type": "markdown",
   "id": "a0c8120a-067e-4250-a4bc-60919e97613e",
   "metadata": {},
   "source": [
    "## Introduction"
   ]
  },
  {
   "cell_type": "markdown",
   "id": "caf2b81a-3566-4d0d-afc9-d267214cbf51",
   "metadata": {},
   "source": [
    "Spotify is a music streaming service that provides millions of songs towards users that are able to be stored in playlists. A playlist is a collection of songs categorized by how a user would like. Typically, playlists are formed around a certain mood or genre where songs in that playlist will convey a similar feeling. What makes Spotify stand out is its ability to generate custom playlists that are generated based on what the users listen to. Typically, these playlists include a good portion of songs users have listened to and some songs that a user may have never listened to, but are suggested based on how related that song is to the playlist. This raises the question on how Spotify finds these songs that can accurately fit in a playlist, or how a custom playlist can so accurately depict a mood or a genre. This project explores this question using different techniques like logistic regression and K-nearest neighbors to analyze how songs can be accurately classified."
   ]
  },
  {
   "cell_type": "markdown",
   "id": "e49d40e3-9bdd-4fed-bc55-e91f037faa0d",
   "metadata": {},
   "source": [
    "## Code Setup"
   ]
  },
  {
   "cell_type": "code",
   "execution_count": 62,
   "id": "c2de5eed-eb80-44cd-8af9-1cce49c45d4c",
   "metadata": {},
   "outputs": [],
   "source": [
    "# import necessary packages\n",
    "import numpy as np\n",
    "from numpy import linalg as LA\n",
    "import pandas as pd\n",
    "import matplotlib.pyplot as plt\n",
    "from sklearn.model_selection import train_test_split\n",
    "from sklearn.neighbors import KNeighborsClassifier\n",
    "from sklearn.model_selection import cross_val_score"
   ]
  },
  {
   "cell_type": "markdown",
   "id": "cf2bc1d6-4adf-4316-8b56-b273354f8293",
   "metadata": {},
   "source": [
    "## Logistic Regression"
   ]
  },
  {
   "cell_type": "markdown",
   "id": "3813c1fc-c9d8-4c88-8b51-c5e420c910f0",
   "metadata": {},
   "source": [
    "Logistic regression is a model intended to output binary classification. It takes an input of parameters and with an optimized weight, will be applied to a sigmoid function to return a value between 0 and 1. The sigmoid is defined as $\\sigma(a) = \\frac{1}{1 + e^{-a}}$. The input of the sigmoid function will be an an altered version of the parameters $w^tx + b$ where $w$ are the weights, $x$ are the input parameters, and $b$ is the bias term. In total, the logstic regression will look like: \n",
    "$\\sigma(w^tx + b) = \\frac{1}{1 + e^{-w^tx - b}}$"
   ]
  },
  {
   "cell_type": "markdown",
   "id": "f6ed2029-c554-4468-8d51-906d62d3fa43",
   "metadata": {},
   "source": [
    "The weights and bias are found by minimizing its loss function, defined by: $\\mathbb{L}_{w,b} = \\sum_{n=1}^N[ -y_n log(f(x_n)) - (1 - y_n) log(1 - f(x_n))]$ Directly finding the solution to this optimization problem is nearly impossible so some form of gradient descent must be applied to find the optimal parameters. The gradients for $w$ and $b$ can be found with $\\nabla_w \\mathbb{L}(x_n) = (\\sigma(w^tx_n +b) - y_n)x_n$ and $\\nabla_b \\mathbb{L}(x_n) = \\sigma(w^tx_n + b) - y_n$. A mini-batch SGD algorithm will be implemented to optimize accuracy and computational costs."
   ]
  },
  {
   "cell_type": "code",
   "execution_count": 5,
   "id": "26d9ca0f-409c-4b99-864b-d585e06bb05e",
   "metadata": {},
   "outputs": [],
   "source": [
    "#logistic regression function\n",
    "def logreg(z):\n",
    "    #denom = 1 + np.exp(-z)\n",
    "    return 1 / (1 + np.exp(-z))\n",
    "\n",
    "#gradient weight error\n",
    "def gradient_error(X, y, w, n, b):\n",
    "    return (logreg((w.T @ X[n]) + b) - y[n]) * X[n]\n",
    "\n",
    "#gradient bias error\n",
    "def gradient_bias(X, y, w, n, b):\n",
    "    return (logreg((w.T @ X[n]) + b) - y[n])\n",
    "\n",
    "#minibatch SGD algorithm\n",
    "def minibatch(X, y, iter = 1000, step = 0.0001, batchsize = 32):\n",
    "    #initialize w0\n",
    "    w = np.random.randn(X.shape[1])\n",
    "    b = np.random.randn(1)\n",
    "\n",
    "    for i in range(iter):\n",
    "        #set the error term from the minibatch\n",
    "        batch = np.random.randint(0, X.shape[0] - 1, batchsize)\n",
    "        #initialize weight and bias\n",
    "        target = 0\n",
    "        btar = 0\n",
    "        for j in batch:\n",
    "            target += gradient_error(X, y, w, j, b) #update error on summation of batch\n",
    "            btar += gradient_bias(X, y, w, j, b)\n",
    "\n",
    "        #average weight and bias\n",
    "        target /= batchsize\n",
    "        btar /= batchsize\n",
    "\n",
    "        #update weights and bias\n",
    "        w = w - (step * target)\n",
    "        b = b - (step * btar)\n",
    "\n",
    "    return w, b"
   ]
  },
  {
   "cell_type": "markdown",
   "id": "5e5ef2a1-35cf-43ed-b45a-91688ed49ed8",
   "metadata": {},
   "source": [
    "## Data Setup"
   ]
  },
  {
   "cell_type": "markdown",
   "id": "1476069e-1089-4572-965d-15c881cf61cd",
   "metadata": {},
   "source": [
    "The dataset given derives from custom made playlist in which it contains information of the parameters that describe the song (artist, tempo, energy, valence, etc)."
   ]
  },
  {
   "cell_type": "code",
   "execution_count": 87,
   "id": "79c2b36f-c2de-4c5d-85fa-451c5797f0b5",
   "metadata": {},
   "outputs": [],
   "source": [
    "#load all datasets to use for project\n",
    "rap = pd.read_csv(\"rap_playlist.csv\")\n",
    "prog = pd.read_csv(\"progpop_playlist.csv\")\n",
    "sleep = pd.read_csv(\"sleep_playlist.csv\")\n",
    "nature = pd.read_csv(\"nature.csv\")\n",
    "miserable = pd.read_csv(\"miserable.csv\")\n",
    "primas = pd.read_csv(\"primas.csv\")\n",
    "shoegaze = pd.read_csv(\"shoegaze.csv\")\n",
    "indie_folk = pd.read_csv(\"indie_folk.csv\")"
   ]
  },
  {
   "cell_type": "code",
   "execution_count": 98,
   "id": "80cf72f4-07b1-495d-bba8-442f34550ad9",
   "metadata": {},
   "outputs": [
    {
     "data": {
      "text/html": [
       "<div>\n",
       "<style scoped>\n",
       "    .dataframe tbody tr th:only-of-type {\n",
       "        vertical-align: middle;\n",
       "    }\n",
       "\n",
       "    .dataframe tbody tr th {\n",
       "        vertical-align: top;\n",
       "    }\n",
       "\n",
       "    .dataframe thead th {\n",
       "        text-align: right;\n",
       "    }\n",
       "</style>\n",
       "<table border=\"1\" class=\"dataframe\">\n",
       "  <thead>\n",
       "    <tr style=\"text-align: right;\">\n",
       "      <th></th>\n",
       "      <th>#</th>\n",
       "      <th>Song</th>\n",
       "      <th>Artist</th>\n",
       "      <th>Popularity</th>\n",
       "      <th>BPM</th>\n",
       "      <th>Genres</th>\n",
       "      <th>Parent Genres</th>\n",
       "      <th>Album</th>\n",
       "      <th>Album Date</th>\n",
       "      <th>Time</th>\n",
       "      <th>...</th>\n",
       "      <th>Speech</th>\n",
       "      <th>Live</th>\n",
       "      <th>Loud (Db)</th>\n",
       "      <th>Key</th>\n",
       "      <th>Time Signature</th>\n",
       "      <th>Added At</th>\n",
       "      <th>Spotify Track Id</th>\n",
       "      <th>Album Label</th>\n",
       "      <th>Camelot</th>\n",
       "      <th>ISRC</th>\n",
       "    </tr>\n",
       "  </thead>\n",
       "  <tbody>\n",
       "    <tr>\n",
       "      <th>0</th>\n",
       "      <td>1</td>\n",
       "      <td>NEW MAGIC WAND</td>\n",
       "      <td>Tyler, The Creator</td>\n",
       "      <td>81</td>\n",
       "      <td>140</td>\n",
       "      <td>hip hop, rap</td>\n",
       "      <td>Hip Hop</td>\n",
       "      <td>IGOR</td>\n",
       "      <td>2019-05-17</td>\n",
       "      <td>03:15</td>\n",
       "      <td>...</td>\n",
       "      <td>10</td>\n",
       "      <td>60</td>\n",
       "      <td>-5</td>\n",
       "      <td>F Minor</td>\n",
       "      <td>4</td>\n",
       "      <td>2023-04-29</td>\n",
       "      <td>0fv2KH6hac06J86hBUTcSf</td>\n",
       "      <td>Columbia</td>\n",
       "      <td>4A</td>\n",
       "      <td>USQX91901115</td>\n",
       "    </tr>\n",
       "    <tr>\n",
       "      <th>1</th>\n",
       "      <td>2</td>\n",
       "      <td>She Knows This</td>\n",
       "      <td>Kid Cudi</td>\n",
       "      <td>48</td>\n",
       "      <td>166</td>\n",
       "      <td>hip hop, ohio hip hop, pop rap, rap</td>\n",
       "      <td>Hip Hop</td>\n",
       "      <td>Man On The Moon III: The Chosen</td>\n",
       "      <td>2020-12-11</td>\n",
       "      <td>03:36</td>\n",
       "      <td>...</td>\n",
       "      <td>0</td>\n",
       "      <td>30</td>\n",
       "      <td>-8</td>\n",
       "      <td>F#/G♭ Minor</td>\n",
       "      <td>4</td>\n",
       "      <td>2023-04-29</td>\n",
       "      <td>1xzUQMiCoY5pdego0pHMeV</td>\n",
       "      <td>Republic Records</td>\n",
       "      <td>11A</td>\n",
       "      <td>USUM72023837</td>\n",
       "    </tr>\n",
       "    <tr>\n",
       "      <th>2</th>\n",
       "      <td>3</td>\n",
       "      <td>Sept. 16</td>\n",
       "      <td>Kid Cudi</td>\n",
       "      <td>46</td>\n",
       "      <td>141</td>\n",
       "      <td>hip hop, ohio hip hop, pop rap, rap</td>\n",
       "      <td>Hip Hop</td>\n",
       "      <td>Man On The Moon III: The Chosen</td>\n",
       "      <td>2020-12-11</td>\n",
       "      <td>04:09</td>\n",
       "      <td>...</td>\n",
       "      <td>0</td>\n",
       "      <td>10</td>\n",
       "      <td>-7</td>\n",
       "      <td>E Minor</td>\n",
       "      <td>4</td>\n",
       "      <td>2023-04-29</td>\n",
       "      <td>3Uw2se3aQU1UFrpRBvBnB4</td>\n",
       "      <td>Republic Records</td>\n",
       "      <td>9A</td>\n",
       "      <td>USUM72023846</td>\n",
       "    </tr>\n",
       "    <tr>\n",
       "      <th>3</th>\n",
       "      <td>4</td>\n",
       "      <td>Alive (Nightmare)</td>\n",
       "      <td>Kid Cudi,Ratatat</td>\n",
       "      <td>54</td>\n",
       "      <td>102</td>\n",
       "      <td>hip hop, ohio hip hop, pop rap, rap, brooklyn ...</td>\n",
       "      <td>Rock, Hip Hop, Pop</td>\n",
       "      <td>Man On The Moon: The End Of Day (Deluxe)</td>\n",
       "      <td>2009-01-01</td>\n",
       "      <td>04:06</td>\n",
       "      <td>...</td>\n",
       "      <td>0</td>\n",
       "      <td>20</td>\n",
       "      <td>-5</td>\n",
       "      <td>F#/G♭ Minor</td>\n",
       "      <td>4</td>\n",
       "      <td>2023-04-29</td>\n",
       "      <td>3HG3QFERdP3Q1b6VGahwWs</td>\n",
       "      <td>Kid Cudi/Universal Records</td>\n",
       "      <td>11A</td>\n",
       "      <td>USUM70981728</td>\n",
       "    </tr>\n",
       "    <tr>\n",
       "      <th>4</th>\n",
       "      <td>5</td>\n",
       "      <td>Backseat Freestyle</td>\n",
       "      <td>Kendrick Lamar</td>\n",
       "      <td>51</td>\n",
       "      <td>78</td>\n",
       "      <td>conscious hip hop, hip hop, rap, west coast rap</td>\n",
       "      <td>Hip Hop</td>\n",
       "      <td>good kid, m.A.A.d city</td>\n",
       "      <td>2012-00-00</td>\n",
       "      <td>03:32</td>\n",
       "      <td>...</td>\n",
       "      <td>30</td>\n",
       "      <td>20</td>\n",
       "      <td>-8</td>\n",
       "      <td>C♯/D♭ Major</td>\n",
       "      <td>4</td>\n",
       "      <td>2023-04-29</td>\n",
       "      <td>6fAyRZ0GHuuvSOEIOwi58N</td>\n",
       "      <td>Aftermath</td>\n",
       "      <td>3B</td>\n",
       "      <td>USUM71210777</td>\n",
       "    </tr>\n",
       "  </tbody>\n",
       "</table>\n",
       "<p>5 rows × 25 columns</p>\n",
       "</div>"
      ],
      "text/plain": [
       "   #                Song              Artist  Popularity  BPM  \\\n",
       "0  1      NEW MAGIC WAND  Tyler, The Creator          81  140   \n",
       "1  2      She Knows This            Kid Cudi          48  166   \n",
       "2  3            Sept. 16            Kid Cudi          46  141   \n",
       "3  4   Alive (Nightmare)    Kid Cudi,Ratatat          54  102   \n",
       "4  5  Backseat Freestyle      Kendrick Lamar          51   78   \n",
       "\n",
       "                                              Genres       Parent Genres  \\\n",
       "0                                       hip hop, rap             Hip Hop   \n",
       "1                hip hop, ohio hip hop, pop rap, rap             Hip Hop   \n",
       "2                hip hop, ohio hip hop, pop rap, rap             Hip Hop   \n",
       "3  hip hop, ohio hip hop, pop rap, rap, brooklyn ...  Rock, Hip Hop, Pop   \n",
       "4    conscious hip hop, hip hop, rap, west coast rap             Hip Hop   \n",
       "\n",
       "                                      Album  Album Date   Time  ...  Speech  \\\n",
       "0                                      IGOR  2019-05-17  03:15  ...      10   \n",
       "1           Man On The Moon III: The Chosen  2020-12-11  03:36  ...       0   \n",
       "2           Man On The Moon III: The Chosen  2020-12-11  04:09  ...       0   \n",
       "3  Man On The Moon: The End Of Day (Deluxe)  2009-01-01  04:06  ...       0   \n",
       "4                    good kid, m.A.A.d city  2012-00-00  03:32  ...      30   \n",
       "\n",
       "   Live  Loud (Db)          Key  Time Signature    Added At  \\\n",
       "0    60         -5      F Minor               4  2023-04-29   \n",
       "1    30         -8  F#/G♭ Minor               4  2023-04-29   \n",
       "2    10         -7      E Minor               4  2023-04-29   \n",
       "3    20         -5  F#/G♭ Minor               4  2023-04-29   \n",
       "4    20         -8  C♯/D♭ Major               4  2023-04-29   \n",
       "\n",
       "         Spotify Track Id                 Album Label Camelot          ISRC  \n",
       "0  0fv2KH6hac06J86hBUTcSf                    Columbia      4A  USQX91901115  \n",
       "1  1xzUQMiCoY5pdego0pHMeV            Republic Records     11A  USUM72023837  \n",
       "2  3Uw2se3aQU1UFrpRBvBnB4            Republic Records      9A  USUM72023846  \n",
       "3  3HG3QFERdP3Q1b6VGahwWs  Kid Cudi/Universal Records     11A  USUM70981728  \n",
       "4  6fAyRZ0GHuuvSOEIOwi58N                   Aftermath      3B  USUM71210777  \n",
       "\n",
       "[5 rows x 25 columns]"
      ]
     },
     "execution_count": 98,
     "metadata": {},
     "output_type": "execute_result"
    }
   ],
   "source": [
    "rap.head()"
   ]
  },
  {
   "cell_type": "markdown",
   "id": "d1171008-41ec-4eca-89a6-ef0d32e3f371",
   "metadata": {},
   "source": [
    "The dataset contains string entries that can't be used for analysis. Furthermore, the song id and popularity are removed as it clearly has no correlation to the classification of a song. The parameters that will be used to predict song classifications are BPM, dance, energy, acoustic, instrumental, happy, speech, liveliness, loudness (Db), and time signature."
   ]
  },
  {
   "cell_type": "code",
   "execution_count": 11,
   "id": "c3fae241-c4a5-4f97-92c1-9821358fdd3f",
   "metadata": {},
   "outputs": [],
   "source": [
    "def numfilter(X):\n",
    "    intcol = np.array(X.select_dtypes(include = 'int')) #subset to only int values\n",
    "    intcol = intcol[:, 2:10] #removes songid and popularity\n",
    "    return intcol"
   ]
  },
  {
   "cell_type": "markdown",
   "id": "d1d5836e-2eb6-46c4-95b6-58d7492d996e",
   "metadata": {},
   "source": [
    "Prepare the model for train test split"
   ]
  },
  {
   "cell_type": "code",
   "execution_count": 12,
   "id": "47b8b82c-9a60-497d-a1d1-2ffb04f2fba8",
   "metadata": {},
   "outputs": [],
   "source": [
    "def modelprep(a, b): #stacks the two playlists for testing and the output section corresponding to playlist\n",
    "    a = numfilter(a)\n",
    "    b = numfilter(b)\n",
    "    X = np.row_stack((a, b))\n",
    "    y = np.concatenate((np.zeros(a.shape[0]), np.ones(b.shape[0])))\n",
    "    return X, y\n",
    "\n",
    "#combines rap and prog\n",
    "X, y = modelprep(rap, prog)\n",
    "\n",
    "#Train Test Split\n",
    "X_train, X_test, y_train, y_test = train_test_split(X, y, test_size = 0.25, random_state = 32)"
   ]
  },
  {
   "cell_type": "markdown",
   "id": "605a22b5-fc3e-44aa-a74b-e87224430fdc",
   "metadata": {},
   "source": [
    "## Cooking the code"
   ]
  },
  {
   "cell_type": "markdown",
   "id": "20790982-0dc0-4aaf-83cb-4a9f6b44e0cb",
   "metadata": {},
   "source": [
    "With the ingredients prepared, the kitchen is ready to cook. In this example, a ra and a progressive pop playlist will be used. Start by training the model:"
   ]
  },
  {
   "cell_type": "code",
   "execution_count": 20,
   "id": "be2a0e7a-c409-4d56-ab23-8326de3ca234",
   "metadata": {},
   "outputs": [],
   "source": [
    "w, b = minibatch(X_train, y_train, iter = 5000, step = 0.0001, batchsize = 16)"
   ]
  },
  {
   "cell_type": "markdown",
   "id": "96af00cf-9e8d-467b-b82e-c50a15021deb",
   "metadata": {},
   "source": [
    "Calculate the prediction output based on the trained weights and bias"
   ]
  },
  {
   "cell_type": "code",
   "execution_count": 21,
   "id": "f81a9247-4f4d-43a5-b1b6-a46e0ec4f4f6",
   "metadata": {},
   "outputs": [],
   "source": [
    "def pred(X, w, b):\n",
    "    output = X @ w + b\n",
    "    output = logreg(output) #logistic sigmoid \n",
    "    output = (output >= 0.5).astype(int).reshape(X.shape[0]) #round probabilities to classify\n",
    "    return output\n",
    "\n",
    "#apply the prediction to the testing dataset\n",
    "X_test_pred = pred(X_test, w, b)"
   ]
  },
  {
   "cell_type": "markdown",
   "id": "d8fc3d9d-b31f-470c-bf70-a89285dfb99e",
   "metadata": {},
   "source": [
    "With the predicted outputs, the accuracy will be checked"
   ]
  },
  {
   "cell_type": "code",
   "execution_count": 94,
   "id": "671ebdc3-a18d-4ca5-9d80-200d02060b2b",
   "metadata": {},
   "outputs": [
    {
     "name": "stdout",
     "output_type": "stream",
     "text": [
      "Accuracy = 0.8793103448275862\n"
     ]
    }
   ],
   "source": [
    "def accuracy(pred, res):\n",
    "    return (sum(pred == res)) / (len(pred))\n",
    "    \n",
    "log_ac = accuracy(X_test_pred, y_test) \n",
    "print(f\"Accuracy = {log_ac}\")\n"
   ]
  },
  {
   "cell_type": "markdown",
   "id": "abd5f497-713e-4d08-9160-0f08915165c3",
   "metadata": {},
   "source": [
    "An accuracy of about 88% is achieved, this means that 88% of the songs in the testing dataset have been accurately classified."
   ]
  },
  {
   "cell_type": "markdown",
   "id": "7ebc10e7-7e10-4380-94be-c20fc9267205",
   "metadata": {},
   "source": [
    "## KNN "
   ]
  },
  {
   "cell_type": "markdown",
   "id": "93984176-b438-48b4-953c-3aea95fa9914",
   "metadata": {},
   "source": [
    "K-Nearest Neighbors (or KNN) is a classification technique similar to logistic regression, but allows for more than two classifications to occur. The model set up with given clusters that belong to a certain class and predicts classification based on the labels of the k-nearest points. The distance is calculated using a given distance measure, typically the 2-norm: $||x^* - x_i||_2$ where $x^*$ is the input being labelled and $x_i$ a given classified point. It follows similarly to K-means classification except the clusters are already labelled. "
   ]
  },
  {
   "cell_type": "markdown",
   "id": "dafff07b-caf0-475f-a950-8fa6bca1c161",
   "metadata": {},
   "source": [
    "Four genres, rap, progressive pop, shoegaze, and indie folk will be used to test the accuracy of KNN. Here is a tested KNN model with a given k-value."
   ]
  },
  {
   "cell_type": "code",
   "execution_count": 91,
   "id": "9120d7e8-81e4-4e60-a87b-4a9c3057983f",
   "metadata": {},
   "outputs": [
    {
     "data": {
      "text/plain": [
       "0.768"
      ]
     },
     "execution_count": 91,
     "metadata": {},
     "output_type": "execute_result"
    }
   ],
   "source": [
    "def knn_accuracy(T, ts = 0.25, k = 7):\n",
    "    #create full dataframe\n",
    "    T_all = pd.concat(T, axis=0, ignore_index=True)\n",
    "    T_all = numfilter(T_all)\n",
    "\n",
    "    #true classification\n",
    "    y = np.concatenate([np.repeat(i + 1, len(df)) for i, df in enumerate(T)])\n",
    "\n",
    "    #train test split\n",
    "    X_train, X_test, y_train, y_test = train_test_split(T_all, y, test_size = ts, random_state = 42)\n",
    "\n",
    "    #train knn using cross validation\n",
    "    knn = KNeighborsClassifier(n_neighbors = k)\n",
    "    knn.fit(X_train, y_train)\n",
    "    y_pred = knn.predict(X_test)\n",
    "\n",
    "    #accuracy\n",
    "    acc = knn.score(X_test, y_test)\n",
    "    \n",
    "    return acc\n",
    "\n",
    "\n",
    "    \n",
    "T2 = [rap, prog, shoegaze, indie_folk]\n",
    "acu2 = knn_accuracy(T2, k= 14)\n",
    "acu2"
   ]
  },
  {
   "cell_type": "markdown",
   "id": "406c3382-4689-4575-b180-560775bf2a78",
   "metadata": {},
   "source": [
    "The model seems to be showing about 76.8% accuracy, meaning about 76.8% of the songs in the testing dataset are correctly labelled."
   ]
  },
  {
   "cell_type": "markdown",
   "id": "438e9a37-a50e-4638-a518-9378772b282a",
   "metadata": {},
   "source": [
    "## Optimal k-value"
   ]
  },
  {
   "cell_type": "markdown",
   "id": "d160acf0-52db-45dc-b439-e17dddf896ae",
   "metadata": {},
   "source": [
    "The choice of k can improve the accuracy of the result. Below is a graph of the accuracy of the model throughout various k-values:"
   ]
  },
  {
   "cell_type": "code",
   "execution_count": 93,
   "id": "983a454a-71c5-4297-bad1-d05b99d1940d",
   "metadata": {},
   "outputs": [
    {
     "data": {
      "image/png": "[encoded data removed]",
      "text/plain": [
       "<Figure size 640x480 with 1 Axes>"
      ]
     },
     "metadata": {},
     "output_type": "display_data"
    }
   ],
   "source": [
    "k_val = range(1,50)\n",
    "accuracy_output = []\n",
    "\n",
    "for i in k_val:    \n",
    "    accuracy_output.append(knn_accuracy(T2, k = i))\n",
    "\n",
    "# Plotting the accuracy for each k-value\n",
    "plt.plot(k_val, accuracy_output, marker='*')\n",
    "plt.title('Accuracy vs. Number of Neighbors (k)')\n",
    "plt.xlabel('k')\n",
    "plt.ylabel('Accuracy')\n",
    "plt.grid(True)\n",
    "plt.show()"
   ]
  },
  {
   "cell_type": "markdown",
   "id": "adbb5d09-eb48-473f-b093-7d020a471e09",
   "metadata": {},
   "source": [
    "## Logistic Regression vs KNN"
   ]
  },
  {
   "cell_type": "markdown",
   "id": "e10b9ab3-4e52-44ec-9dc1-e7907777401c",
   "metadata": {},
   "source": [
    "Comparing logstic regression to KNN in a binary case. Going back to the original example with rap and progressive pop:"
   ]
  },
  {
   "cell_type": "code",
   "execution_count": 96,
   "id": "bf019939-1527-44ed-9ac2-5f4e9c084df3",
   "metadata": {},
   "outputs": [
    {
     "name": "stdout",
     "output_type": "stream",
     "text": [
      "KNN Accuracy = 0.7758620689655172\n",
      "Logistic Regression Accuracy = 0.8793103448275862\n"
     ]
    }
   ],
   "source": [
    "prog_rap = [rap, prog]\n",
    "acu = []\n",
    "for i in k_val:\n",
    "    acu.append(knn_accuracy(prog_rap, k = i))\n",
    "\n",
    "print(f\"KNN Accuracy = {np.max(acu)}\")\n",
    "print(f\"Logistic Regression Accuracy = {log_ac}\")"
   ]
  },
  {
   "cell_type": "markdown",
   "id": "5c28fe34-404f-4241-958b-97516043c131",
   "metadata": {},
   "source": [
    "The logistic regression model appears to function better. This may be explained as the logistic regression is a parametric model while KNN is a non-parametric model. The logistic regression model was trained while KNN used metrics already given. "
   ]
  },
  {
   "cell_type": "markdown",
   "id": "cb1c09a9-e8bd-402d-853c-eb99edc09b6a",
   "metadata": {},
   "source": [
    "## Conclusion"
   ]
  },
  {
   "cell_type": "markdown",
   "id": "c158b21a-d638-4d11-82f1-2a8686161678",
   "metadata": {},
   "source": [
    "Spotify songs can roughly be classified based on its metrics. In a binary case, a song can be classified using logistic regression, where the model is trained using mini-batch SGD to minimize the loss of the weight and bias. In a more complicated case, KNN can be used to classify a song under multiple labels. By calculating the k-closest songs and finding the majority label, a song can be classified towards that playlist. KNN seems to work less efficiently as it produces a lower accuracy than logistic regression and is computationally more expensive, however, logistic regression is limited to two classifications. These models can be applied to efficiently classify a song towards a genre or mood. Through this, new songs can be suggested to given playlists that a user has made. "
   ]
  },
  {
   "cell_type": "markdown",
   "id": "97dd8f19-4c20-4ba4-a8d4-9ed75e0a08c9",
   "metadata": {},
   "source": [
    "## References"
   ]
  },
  {
   "cell_type": "markdown",
   "id": "9254e8f4-1959-426a-9ef7-9df2ad8aed4d",
   "metadata": {},
   "source": [
    "- “Spotify Playlist Analyzer.” Chosic, 12 Aug. 2024, www.chosic.com/spotify-playlist-analyzer/?plid=5ysKGDUuMFHXRddbldy1ZW. \n",
    "- Thomas, Nathan. “Using K-Nearest Neighbours to Predict the Genre of Spotify Tracks.” Medium, Towards Data Science, 9 May 2020, towardsdatascience.com/using-k-nearest-neighbours-to-predict-the-genre-of-spotify-tracks-796bbbad619f.\n"
   ]
  }
 ],
 "metadata": {
  "kernelspec": {
   "display_name": "Python 3 (ipykernel)",
   "language": "python",
   "name": "python3"
  },
  "language_info": {
   "codemirror_mode": {
    "name": "ipython",
    "version": 3
   },
   "file_extension": ".py",
   "mimetype": "text/x-python",
   "name": "python",
   "nbconvert_exporter": "python",
   "pygments_lexer": "ipython3",
   "version": "3.11.7"
  }
 },
 "nbformat": 4,
 "nbformat_minor": 5
}
