{
 "cells": [
  {
   "cell_type": "markdown",
   "id": "3fbfde2d-5a67-460a-8a97-137e6d932244",
   "metadata": {},
   "source": [
    "# Question 1"
   ]
  },
  {
   "cell_type": "markdown",
   "id": "7c9200dd-f235-4eb8-8272-e0bb6e5f9a3b",
   "metadata": {},
   "source": [
    "![Question 1](HW3_Q1.png)"
   ]
  },
  {
   "cell_type": "markdown",
   "id": "a3eaa8fe-804c-4610-b40c-d830a430ad6e",
   "metadata": {},
   "source": [
    "# Question 2"
   ]
  },
  {
   "cell_type": "markdown",
   "id": "0b14ba6a-279f-477a-b717-976735d0746f",
   "metadata": {},
   "source": [
    "![Question 2](HW3_Q2.png)"
   ]
  },
  {
   "cell_type": "markdown",
   "id": "d8548f5e-04bb-4869-9104-af7d986ba392",
   "metadata": {},
   "source": [
    "# Question 3"
   ]
  },
  {
   "cell_type": "markdown",
   "id": "60404f03-dec7-4df9-ac7c-87ed41092e8b",
   "metadata": {},
   "source": [
    "- Set the matrix and calculate AAt and AtA to get the U, V matrices"
   ]
  },
  {
   "cell_type": "code",
   "execution_count": 3,
   "id": "ab44f835-8bec-47c6-ace9-5344a2d20809",
   "metadata": {},
   "outputs": [],
   "source": [
    "import numpy as np\n",
    "from numpy import linalg as LA\n",
    "\n",
    "#initialize matrix A and AAt, AtA\n",
    "A = np.array([[1, 0], [2, 7], [3, 5]])\n",
    "AAt = A @ A.T\n",
    "AtA = A.T @ A\n"
   ]
  },
  {
   "cell_type": "markdown",
   "id": "a500355b-eca2-43da-804d-a21ca8536962",
   "metadata": {},
   "source": [
    "- Get the left and right singular values by calculating the orthonormal eigenvectors for AAt and AtA\n",
    "- The `LA.eig()` function not only grabs the eigenvectors but also orthonormalizes it, making U and V solvable with this function"
   ]
  },
  {
   "cell_type": "code",
   "execution_count": 4,
   "id": "78c29b1d-3cd4-4eb0-a0b2-f371885083fc",
   "metadata": {},
   "outputs": [],
   "source": [
    "#solving U\n",
    "U_eigenval, U = LA.eig(AAt)\n",
    "\n",
    "#solving V, grab the eigenvalues for sigma\n",
    "V_eigenval, V = LA.eig(AtA)"
   ]
  },
  {
   "cell_type": "markdown",
   "id": "74220a1f-6898-476f-b7a5-e3a8cdd56a28",
   "metadata": {},
   "source": [
    "- Setting up the sigma matrix\n",
    "- Sort the eigenvalues by descending order, then take the square root and concat into a 3x2 matrix"
   ]
  },
  {
   "cell_type": "code",
   "execution_count": 5,
   "id": "e8dcd14c-f45a-44de-9bb1-6a9d39cd2d7b",
   "metadata": {},
   "outputs": [
    {
     "data": {
      "text/plain": [
       "array([[9.25879539, 0.        ],\n",
       "       [0.        , 1.50821348],\n",
       "       [0.        , 0.        ]])"
      ]
     },
     "execution_count": 5,
     "metadata": {},
     "output_type": "execute_result"
    }
   ],
   "source": [
    "#sort the eigenvalues and take the square root\n",
    "sqrtEV = np.sqrt(sorted(V_eigenval, reverse = True))\n",
    "\n",
    "#Store into a diagonal and add the remaining 0 rows\n",
    "Sigma = np.vstack([np.diag(sqrtEV), [0, 0]])\n",
    "Sigma"
   ]
  },
  {
   "cell_type": "markdown",
   "id": "3fc63324-db17-4e50-bf36-fe96e2320ff0",
   "metadata": {},
   "source": [
    "- Sort U and V in terms of their eigenvalues"
   ]
  },
  {
   "cell_type": "code",
   "execution_count": 6,
   "id": "11a9941d-54b5-429f-81b7-223778307ab7",
   "metadata": {},
   "outputs": [],
   "source": [
    "U_sorted = np.argsort(-U_eigenval)\n",
    "V_sorted = np.argsort(-V_eigenval)\n",
    "\n",
    "U = U[:, U_sorted]\n",
    "V = V[:, V_sorted]"
   ]
  },
  {
   "cell_type": "code",
   "execution_count": 7,
   "id": "a00c240a-2296-44ca-b076-1c52c89bc7dc",
   "metadata": {},
   "outputs": [
    {
     "data": {
      "text/plain": [
       "array([[-0.04048486,  0.61469355, -0.78772636],\n",
       "       [-0.78188419, -0.51034496, -0.35805744],\n",
       "       [-0.62210778,  0.60141488,  0.50128041]])"
      ]
     },
     "execution_count": 7,
     "metadata": {},
     "output_type": "execute_result"
    }
   ],
   "source": [
    "U"
   ]
  },
  {
   "cell_type": "code",
   "execution_count": 8,
   "id": "cc4756c7-29a2-4476-a3e2-211d2ff886f9",
   "metadata": {},
   "outputs": [
    {
     "data": {
      "text/plain": [
       "array([[-0.37484105, -0.92708909],\n",
       "       [-0.92708909,  0.37484105]])"
      ]
     },
     "execution_count": 8,
     "metadata": {},
     "output_type": "execute_result"
    }
   ],
   "source": [
    "V"
   ]
  },
  {
   "cell_type": "markdown",
   "id": "c8c8ace8-3912-4eb6-a5c6-f4340060e49b",
   "metadata": {},
   "source": [
    "- Thinning Step: Since $A \\in \\mathbb{R}^{3x2}$, cut $\\Sigma \\in \\mathbb{R}^{2x2}$\n",
    "- this implies that $U \\in \\mathbb{R}^{3x2}$, $V \\in \\mathbb{R}^{2x2}$\n",
    "- To perform this, the last column of U is cut"
   ]
  },
  {
   "cell_type": "code",
   "execution_count": 9,
   "id": "165a13ba-dd07-4731-a89a-a91cd7f2b516",
   "metadata": {},
   "outputs": [],
   "source": [
    "U = U[:,:-1]\n",
    "Sigma = Sigma[:-1, :]"
   ]
  },
  {
   "cell_type": "markdown",
   "id": "2e7ad321-bffd-457f-a771-928ba4bc4fc6",
   "metadata": {},
   "source": [
    "- Solution:"
   ]
  },
  {
   "cell_type": "code",
   "execution_count": 14,
   "id": "9577e551-0a8b-4c79-856d-8a91a7ec04e1",
   "metadata": {},
   "outputs": [
    {
     "name": "stdout",
     "output_type": "stream",
     "text": [
      "U = [[-0.04048486  0.61469355]\n",
      " [-0.78188419 -0.51034496]\n",
      " [-0.62210778  0.60141488]]\n"
     ]
    }
   ],
   "source": [
    "print(f\"U = {U}\")"
   ]
  },
  {
   "cell_type": "code",
   "execution_count": 15,
   "id": "1cab3cd0-66a0-4d20-822a-03f78881a1b2",
   "metadata": {},
   "outputs": [
    {
     "name": "stdout",
     "output_type": "stream",
     "text": [
      "Sigma = [[9.25879539 0.        ]\n",
      " [0.         1.50821348]]\n"
     ]
    }
   ],
   "source": [
    "print(f\"Sigma = {Sigma}\")"
   ]
  },
  {
   "cell_type": "code",
   "execution_count": 16,
   "id": "34336978-b894-4274-92e3-b875d8472e09",
   "metadata": {},
   "outputs": [
    {
     "name": "stdout",
     "output_type": "stream",
     "text": [
      "V = [[-0.37484105 -0.92708909]\n",
      " [-0.92708909  0.37484105]]\n"
     ]
    }
   ],
   "source": [
    "print(f\"V = {V}\")"
   ]
  },
  {
   "cell_type": "markdown",
   "id": "a41dddd9-d290-4503-8b96-f62f27688801",
   "metadata": {},
   "source": [
    "# Question 4"
   ]
  },
  {
   "cell_type": "markdown",
   "id": "2bedd39c-ef9f-468d-9efa-6b8a79c0d62c",
   "metadata": {},
   "source": [
    "![Question 4](HW3_Q4.png)"
   ]
  }
 ],
 "metadata": {
  "kernelspec": {
   "display_name": "Python 3 (ipykernel)",
   "language": "python",
   "name": "python3"
  },
  "language_info": {
   "codemirror_mode": {
    "name": "ipython",
    "version": 3
   },
   "file_extension": ".py",
   "mimetype": "text/x-python",
   "name": "python",
   "nbconvert_exporter": "python",
   "pygments_lexer": "ipython3",
   "version": "3.11.7"
  }
 },
 "nbformat": 4,
 "nbformat_minor": 5
}
